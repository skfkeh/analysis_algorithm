{
 "cells": [
  {
   "cell_type": "code",
   "execution_count": null,
   "id": "768f2d4a",
   "metadata": {},
   "outputs": [],
   "source": [
    "import pandas as pd\n",
    "import numpy as np\n",
    "\n",
    "import warnings\n",
    "warnings.filterwarnings('ignore')\n",
    "\n",
    "data = pd.read_excel('C:\\\\Users\\\\Playdata\\\\Workspace\\\\Mini_proj\\\\MachineLearning\\\\Resource\\\\Data_Train.xlsx')\n",
    "df = pd.DataFrame(data)\n",
    "df.head()\n",
    "\n",
    "df.drop(columns=['Route'],inplace=True)"
   ]
  },
  {
   "cell_type": "code",
   "execution_count": null,
   "id": "9387d35b",
   "metadata": {},
   "outputs": [],
   "source": [
    "df['Dep_Time'] = pd.to_datetime(df['Dep_Time'], format= '%H:%M').dt.time\n",
    "df['Duration_hour'] = df.Duration.str.extract('(\\d+)h')\n",
    "df['Duration_min'] = df.Duration.str.extract('(\\d+)m').fillna(0)\n",
    "df.drop('Duration', axis=1, inplace=True)\n",
    "df.head()"
   ]
  },
  {
   "cell_type": "markdown",
   "id": "11a03a89",
   "metadata": {},
   "source": [
    "### Duration 에서 이상치 drop"
   ]
  },
  {
   "cell_type": "code",
   "execution_count": null,
   "id": "056d21e3",
   "metadata": {},
   "outputs": [],
   "source": [
    "df[df['Duration_hour'].isna()]\n",
    "df.drop(index=6474,inplace=True)\n",
    "len(df)"
   ]
  },
  {
   "cell_type": "code",
   "execution_count": null,
   "id": "d85ddb9f",
   "metadata": {},
   "outputs": [],
   "source": [
    "# str -> int64 로 변경\n",
    "df.Duration_hour = df.Duration_hour.astype('int64')\n",
    "df.Duration_min = df.Duration_min.astype('int64')"
   ]
  },
  {
   "cell_type": "code",
   "execution_count": null,
   "id": "4ad6b961",
   "metadata": {},
   "outputs": [],
   "source": [
    "# Duration_hour을 분으로 변경\n",
    "df.Duration_hour = df.Duration_hour*60\n",
    "df['Duration_total'] = df.Duration_hour+df.Duration_min\n",
    "df.head()"
   ]
  },
  {
   "cell_type": "code",
   "execution_count": null,
   "id": "67f949ec",
   "metadata": {},
   "outputs": [],
   "source": [
    "df.drop(columns=['Duration_hour','Duration_min','Arrival_Time'],inplace=True)\n",
    "df.head()"
   ]
  },
  {
   "cell_type": "markdown",
   "id": "bc826df0",
   "metadata": {},
   "source": [
    "### Airline 전처리"
   ]
  },
  {
   "cell_type": "code",
   "execution_count": null,
   "id": "d3bc5dea",
   "metadata": {},
   "outputs": [],
   "source": [
    "# count값에 맞춰 index 넘버링하기\n",
    "air_count = df.Airline.value_counts().index\n",
    "\n",
    "# 200 보다 적은 수의 airline은 Others 로 변환\n",
    "airlist = [l for l in air_count if list(df.Airline).count(l) < 200]\n",
    "df.Airline = df.Airline.replace(airlist, 'Others')\n",
    "df.Airline.value_counts()\n",
    "\n",
    "# 컬럼 미리 생성\n",
    "df['Air_col'] = 0\n",
    "\n",
    "df.Airline.value_counts()"
   ]
  },
  {
   "cell_type": "code",
   "execution_count": null,
   "id": "b298bb15",
   "metadata": {},
   "outputs": [],
   "source": [
    "# Air_col : Airline을 번호로 분류\n",
    "for t in range(len(air_count)):\n",
    "    df.loc[df.Airline == air_count[t], 'Air_col'] = t\n",
    "\n",
    "print(df.Air_col.value_counts())\n",
    "print(df.head())"
   ]
  },
  {
   "cell_type": "code",
   "execution_count": null,
   "id": "60983274",
   "metadata": {},
   "outputs": [],
   "source": [
    "df.drop(columns=['Airline'],inplace=True)\n",
    "df.head()"
   ]
  },
  {
   "cell_type": "markdown",
   "id": "19db86b2",
   "metadata": {},
   "source": [
    "### Additional_Info 전처리"
   ]
  },
  {
   "cell_type": "code",
   "execution_count": null,
   "id": "3280761f",
   "metadata": {},
   "outputs": [],
   "source": [
    "# 3. Additional_Info 전처리\n",
    "# 20 보다 적은 수의 Additional_Info Others 로 변환\n",
    "add_count = df.Additional_Info.value_counts().index\n",
    "additional_thing = [l for l in add_count if list(df.Additional_Info).count(l) < 20]\n",
    "df.Additional_Info = df.Additional_Info.replace(additional_thing, 'Others')\n",
    "df.Additional_Info.value_counts()"
   ]
  },
  {
   "cell_type": "code",
   "execution_count": null,
   "id": "6da2845a",
   "metadata": {},
   "outputs": [],
   "source": [
    "# 컬럼 미리 생성\n",
    "df['Add_col'] = 0\n",
    "df.head()"
   ]
  },
  {
   "cell_type": "code",
   "execution_count": null,
   "id": "7df9bfbf",
   "metadata": {},
   "outputs": [],
   "source": [
    "add_count = df.Additional_Info.value_counts().index\n",
    "add_count"
   ]
  },
  {
   "cell_type": "code",
   "execution_count": null,
   "id": "a2e52f26",
   "metadata": {},
   "outputs": [],
   "source": [
    "# Add_col 컬럼에 인덱스 번호로 넣기\n",
    "for t in range(len(add_count)):\n",
    "    df.loc[df.Additional_Info == add_count[t], 'Add_col'] = t\n",
    "\n",
    "df.Add_col.value_counts()"
   ]
  },
  {
   "cell_type": "code",
   "execution_count": null,
   "id": "bd266c9e",
   "metadata": {},
   "outputs": [],
   "source": [
    "df.head()"
   ]
  },
  {
   "cell_type": "markdown",
   "id": "da097482",
   "metadata": {},
   "source": [
    "### Total_Stops 전처리"
   ]
  },
  {
   "cell_type": "code",
   "execution_count": null,
   "id": "aace8924",
   "metadata": {},
   "outputs": [],
   "source": [
    "# 결론 : 전반적으로 1 stop이 절반 이상이므로 1 stop 으로 처리\n",
    "df.loc[df.Total_Stops.isna(),'Total_Stops'] = '1 stop'\n",
    "df[df.Total_Stops.isna()]"
   ]
  },
  {
   "cell_type": "code",
   "execution_count": null,
   "id": "80d49ae8",
   "metadata": {},
   "outputs": [],
   "source": [
    "# 각 stop에 맞춘 \n",
    "def handle_stops(x):\n",
    "    # if type(x) == float: return np.NaN\n",
    "    if x == 'non-stop': return 0\n",
    "    return int(x.split()[0])\n",
    "\n",
    "df.Total_Stops.apply(handle_stops)"
   ]
  },
  {
   "cell_type": "code",
   "execution_count": null,
   "id": "60fd1874",
   "metadata": {},
   "outputs": [],
   "source": [
    "df.Total_Stops = df.Total_Stops.apply(handle_stops)\n",
    "df.head()"
   ]
  },
  {
   "cell_type": "markdown",
   "id": "8284d9c8",
   "metadata": {},
   "source": [
    "### Date_of_Journey 전처리"
   ]
  },
  {
   "cell_type": "code",
   "execution_count": null,
   "id": "3e916a70",
   "metadata": {},
   "outputs": [],
   "source": [
    "import datetime\n",
    "\n",
    "days = ['MON', 'TUE', 'WEN', 'THU', 'FRI', 'SAT', 'SUN']\n"
   ]
  },
  {
   "cell_type": "code",
   "execution_count": null,
   "id": "b8b36849",
   "metadata": {},
   "outputs": [],
   "source": [
    "k = df.Date_of_Journey.str.extract('(\\d+)/')\n",
    "df['DOJ'] = k\n",
    "df.head()"
   ]
  },
  {
   "cell_type": "code",
   "execution_count": null,
   "id": "3a6298a3",
   "metadata": {},
   "outputs": [],
   "source": [
    "df['Date_of_journey_DT'] = pd.to_datetime(df['Date_of_Journey'])\n",
    "\n",
    "df['weekday'] = pd.to_datetime(df['Date_of_journey_DT']).dt.weekday\n",
    "\n",
    "\n",
    "df['weekday_name'] = pd.to_datetime(df['Date_of_journey_DT']).dt.day_name()\n",
    "df.head()"
   ]
  },
  {
   "cell_type": "markdown",
   "id": "ec97e363",
   "metadata": {},
   "source": [
    "### 불필요 컬럼 drop"
   ]
  },
  {
   "cell_type": "code",
   "execution_count": null,
   "id": "5ac39f65",
   "metadata": {},
   "outputs": [],
   "source": [
    "df.drop(columns=['Source','Destination','DOJ','Date_of_journey_DT','weekday','Date_of_Journey'],inplace=True)\n",
    "df.head()"
   ]
  },
  {
   "cell_type": "code",
   "execution_count": null,
   "id": "b19e41e0",
   "metadata": {},
   "outputs": [],
   "source": [
    "df.drop(columns=['Additional_Info'],inplace=True)"
   ]
  },
  {
   "cell_type": "code",
   "execution_count": null,
   "id": "3bce0b94",
   "metadata": {},
   "outputs": [],
   "source": [
    "df.Dep_Time = df.Dep_Time.astype(str)"
   ]
  },
  {
   "cell_type": "code",
   "execution_count": null,
   "id": "2555d918",
   "metadata": {},
   "outputs": [],
   "source": [
    "# 출발시간, 도착시간에서 시간 단위만 뽑기\n",
    "df['Dep_hour'] = df.Dep_Time.str.extract('([0-9]+)\\:')\n",
    "# df['Arrival_hour'] = df.Arrival_Time.str.extract('([0-9]+)\\:')"
   ]
  },
  {
   "cell_type": "code",
   "execution_count": null,
   "id": "7df8f067",
   "metadata": {},
   "outputs": [],
   "source": [
    "df.drop(columns=['Dep_Time'],inplace=True)\n",
    "df.head()"
   ]
  },
  {
   "cell_type": "code",
   "execution_count": null,
   "id": "62075576",
   "metadata": {},
   "outputs": [],
   "source": [
    "# 범주형 변수 처리\n",
    "df = pd.get_dummies(df, columns=['weekday_name','Add_col','Air_col'],drop_first=True)\n",
    "df.head()"
   ]
  },
  {
   "cell_type": "code",
   "execution_count": null,
   "id": "968d8ce3",
   "metadata": {},
   "outputs": [],
   "source": []
  },
  {
   "cell_type": "code",
   "execution_count": null,
   "id": "27854293",
   "metadata": {},
   "outputs": [],
   "source": []
  }
 ],
 "metadata": {
  "kernelspec": {
   "display_name": "Python 3 (ipykernel)",
   "language": "python",
   "name": "python3"
  },
  "language_info": {
   "codemirror_mode": {
    "name": "ipython",
    "version": 3
   },
   "file_extension": ".py",
   "mimetype": "text/x-python",
   "name": "python",
   "nbconvert_exporter": "python",
   "pygments_lexer": "ipython3",
   "version": "3.7.5"
  }
 },
 "nbformat": 4,
 "nbformat_minor": 5
}
